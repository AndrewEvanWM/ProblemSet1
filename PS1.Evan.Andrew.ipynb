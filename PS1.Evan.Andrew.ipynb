{
 "cells": [
  {
   "cell_type": "code",
   "execution_count": 7,
   "metadata": {
    "collapsed": true
   },
   "outputs": [],
   "source": [
    "#import statements\n",
    "import random\n",
    "import numpy\n",
    "import matplotlib.mlab as mlab\n",
    "import matplotlib.pyplot as plt\n",
    "%matplotlib inline\n",
    "import scipy.special"
   ]
  },
  {
   "cell_type": "code",
   "execution_count": 8,
   "metadata": {},
   "outputs": [],
   "source": [
    "#Exercise 1.4\n",
    "\n",
    "#used Make Your Own Neural Netwok by Rashid\n",
    "\n",
    "#function\n",
    "def function(x1, x2):\n",
    "    #function is simply if x1*x2 > 99,\n",
    "    #return 1, otherwise return -1\n",
    "    y = x1*x2\n",
    "    if y > 99:\n",
    "        return 1\n",
    "    return -1\n",
    "        \n",
    "#creating the dataset\n",
    "n = 20\n",
    "m = 3\n",
    "a = [None]*n\n",
    "for i in range(0,20):\n",
    "    x = [None]*m\n",
    "    for j in range(0,2):\n",
    "        x[j] = random.randint(0,25)\n",
    "    x[2] = function(x[0],x[1])\n",
    "    a[i] = x\n",
    "\n",
    "# neural network class definition\n",
    "class neuralNetwork:\n",
    "    \n",
    "    \n",
    "    # initialise the neural network\n",
    "    def __init__(self, inputnodes, hiddennodes, outputnodes, learningrate):\n",
    "        # set number of nodes in each input, hidden, output layer\n",
    "        self.inodes = inputnodes\n",
    "        self.hnodes = hiddennodes\n",
    "        self.onodes = outputnodes\n",
    "        \n",
    "        # link weight matrices, wih and who\n",
    "        # weights inside the arrays are w_i_j, where link is from node i to node j in the next layer\n",
    "        # w11 w21\n",
    "        # w12 w22 etc \n",
    "        self.wih = numpy.random.normal(0.0, pow(self.inodes, -0.5), (self.hnodes, self.inodes))\n",
    "        self.who = numpy.random.normal(0.0, pow(self.hnodes, -0.5), (self.onodes, self.hnodes))\n",
    "\n",
    "        # learning rate\n",
    "        self.lr = learningrate\n",
    "        \n",
    "        # activation function is the sigmoid function\n",
    "        self.activation_function = lambda x: scipy.special.expit(x)\n",
    "        \n",
    "        pass\n",
    "\n",
    "    \n",
    "    # train the neural network\n",
    "    def train(self, inputs_list, targets_list):\n",
    "        # convert inputs list to 2d array\n",
    "        inputs = numpy.array(inputs_list, ndmin=2).T\n",
    "        targets = numpy.array(targets_list, ndmin=2).T\n",
    "        \n",
    "        # calculate signals into hidden layer\n",
    "        hidden_inputs = numpy.dot(self.wih, inputs)\n",
    "        # calculate the signals emerging from hidden layer\n",
    "        hidden_outputs = self.activation_function(hidden_inputs)\n",
    "        \n",
    "        # calculate signals into final output layer\n",
    "        final_inputs = numpy.dot(self.who, hidden_outputs)\n",
    "        # calculate the signals emerging from final output layer\n",
    "        final_outputs = self.activation_function(final_inputs)\n",
    "        \n",
    "        # output layer error is the (target - actual)\n",
    "        output_errors = targets - final_outputs\n",
    "        # hidden layer error is the output_errors, split by weights, recombined at hidden nodes\n",
    "        hidden_errors = numpy.dot(self.who.T, output_errors) \n",
    "        \n",
    "        # update the weights for the links between the hidden and output layers\n",
    "        self.who += self.lr * numpy.dot((output_errors * final_outputs * (1.0 - final_outputs)), numpy.transpose(hidden_outputs))\n",
    "        \n",
    "        # update the weights for the links between the input and hidden layers\n",
    "        self.wih += self.lr * numpy.dot((hidden_errors * hidden_outputs * (1.0 - hidden_outputs)), numpy.transpose(inputs))\n",
    "        \n",
    "        pass\n",
    "\n",
    "    \n",
    "    # query the neural network\n",
    "    def query(self, inputs_list):\n",
    "        # convert inputs list to 2d array\n",
    "        inputs = numpy.array(inputs_list, ndmin=2).T\n",
    "        \n",
    "        # calculate signals into hidden layer\n",
    "        hidden_inputs = numpy.dot(self.wih, inputs)\n",
    "        # calculate the signals emerging from hidden layer\n",
    "        hidden_outputs = self.activation_function(hidden_inputs)\n",
    "        \n",
    "        # calculate signals into final output layer\n",
    "        final_inputs = numpy.dot(self.who, hidden_outputs)\n",
    "        # calculate the signals emerging from final output layer\n",
    "        final_outputs = self.activation_function(final_inputs)\n",
    "        \n",
    "        return final_outputs"
   ]
  },
  {
   "cell_type": "code",
   "execution_count": 11,
   "metadata": {},
   "outputs": [
    {
     "name": "stdout",
     "output_type": "stream",
     "text": [
      "[[0.55583741 0.50651436 0.50132821 0.64341787 0.63643509 0.5105982\n",
      "  0.50051685 0.50880138 0.6808191  0.53536782 0.50397107 0.63643509\n",
      "  0.67072376 0.50149017 0.60186333 0.69247533 0.61573341 0.50413186\n",
      "  0.50194104 0.506018  ]\n",
      " [0.45760923 0.48788712 0.48402209 0.47183451 0.47725826 0.48694299\n",
      "  0.49435947 0.47660375 0.45774299 0.4808179  0.47855344 0.47725826\n",
      "  0.45610712 0.49104716 0.4765695  0.45552921 0.4735873  0.48202466\n",
      "  0.48278836 0.46866664]\n",
      " [0.62800316 0.52569134 0.52027949 0.75339458 0.74747875 0.5346092\n",
      "  0.50728512 0.54099479 0.79541149 0.5869768  0.53058509 0.74747875\n",
      "  0.7834077  0.51273964 0.70506016 0.80636326 0.72143356 0.52730861\n",
      "  0.52263062 0.54418951]]\n"
     ]
    }
   ],
   "source": [
    "# number of input, hidden and output nodes\n",
    "input_nodes = 3\n",
    "hidden_nodes = 3\n",
    "output_nodes = 3\n",
    "\n",
    "# learning rate is 0.3\n",
    "learning_rate = 0.3\n",
    "\n",
    "# create instance of neural network\n",
    "n = neuralNetwork(input_nodes,hidden_nodes,output_nodes, learning_rate)\n",
    "\n",
    "print(n.query(a))"
   ]
  },
  {
   "cell_type": "code",
   "execution_count": 29,
   "metadata": {},
   "outputs": [
    {
     "name": "stdout",
     "output_type": "stream",
     "text": [
      "v1: 0.499728000000007\n",
      "vrand: 0.49966599999999717\n",
      "vmin: 0.03758699999997677\n",
      "Mean: 0.34566033333332696\n"
     ]
    },
    {
     "data": {
      "image/png": "[encoded data removed]",
      "text/plain": [
       "<matplotlib.figure.Figure at 0xef03588>"
      ]
     },
     "metadata": {},
     "output_type": "display_data"
    },
    {
     "data": {
      "image/png": "[encoded data removed]",
      "text/plain": [
       "<matplotlib.figure.Figure at 0x10f6deb8>"
      ]
     },
     "metadata": {},
     "output_type": "display_data"
    },
    {
     "data": {
      "image/png": "[encoded data removed]",
      "text/plain": [
       "<matplotlib.figure.Figure at 0x11fbfcf8>"
      ]
     },
     "metadata": {},
     "output_type": "display_data"
    }
   ],
   "source": [
    "#Exercise 1.10\n",
    "def exercise10():\n",
    "    oneArray = [None] * 100000\n",
    "    randArray = [None] * 100000\n",
    "    minArray = [None] * 100000\n",
    "    v1Sum = 0\n",
    "    vrandSum = 0\n",
    "    vminSum = 0\n",
    "    for j in range(0, 100000):\n",
    "        headCountArray = [None] * 1000\n",
    "        #positions of cmin, crand, and c1\n",
    "        cmin = 0\n",
    "        crand = random.randint(0,999)\n",
    "        c1 = 0\n",
    "        #cmax = 0\n",
    "\n",
    "        #1000 trials\n",
    "        for x in range(0,1000):\n",
    "            #ten flips, heads is random = 1, increment count for x\n",
    "            count = 0\n",
    "            for i in range(0,10):\n",
    "                if (random.randint(0,1) == 1):\n",
    "                    count += 1\n",
    "            headCountArray[x] = count\n",
    "\n",
    "            #updates minimum frequency of heads\n",
    "            if (headCountArray[cmin] > headCountArray[x]):\n",
    "                cmin = x\n",
    "\n",
    "        v1 = headCountArray[c1] / 10\n",
    "        vrand = headCountArray[crand] / 10\n",
    "        vmin = headCountArray[cmin] / 10\n",
    "        \n",
    "        oneArray[j] = headCountArray[c1]\n",
    "        randArray[j] = headCountArray[crand]\n",
    "        minArray[j] = headCountArray[cmin]\n",
    "\n",
    "        v1Sum += v1\n",
    "        vrandSum += vrand\n",
    "        vminSum += vmin\n",
    "        if (j == 99999):\n",
    "            v1 = v1Sum/100000\n",
    "            vrand = vrandSum/100000\n",
    "            vmin = vminSum/100000\n",
    "            print(\"v1:\", v1)\n",
    "            print(\"vrand:\", vrand)\n",
    "            print(\"vmin:\", vmin)\n",
    "\n",
    "            u = (v1 + vrand + vmin)/3\n",
    "            print(\"Mean:\", u)\n",
    "    \n",
    "    #print(oneArray)\n",
    "    n, bins, patches = plt.hist(oneArray, 10, facecolor='blue', alpha=0.5)\n",
    "    plt.title(\"First Position\")\n",
    "    plt.show()\n",
    "    #print(randArray)\n",
    "    n, bins, patches = plt.hist(randArray, 10, facecolor='blue', alpha=0.5)\n",
    "    plt.title(\"Random Position\")\n",
    "    plt.show()\n",
    "    #print(minArray)\n",
    "    n, bins, patches = plt.hist(minArray, 10, facecolor='blue', alpha=0.5)\n",
    "    plt.title(\"Minimum Head Position\")\n",
    "    plt.show()\n",
    "    \n",
    "    \n",
    "\n",
    "exercise10()"
   ]
  },
  {
   "cell_type": "code",
   "execution_count": null,
   "metadata": {
    "collapsed": true
   },
   "outputs": [],
   "source": []
  }
 ],
 "metadata": {
  "kernelspec": {
   "display_name": "Python 3",
   "language": "python",
   "name": "python3"
  },
  "language_info": {
   "codemirror_mode": {
    "name": "ipython",
    "version": 3
   },
   "file_extension": ".py",
   "mimetype": "text/x-python",
   "name": "python",
   "nbconvert_exporter": "python",
   "pygments_lexer": "ipython3",
   "version": "3.6.3"
  }
 },
 "nbformat": 4,
 "nbformat_minor": 2
}
