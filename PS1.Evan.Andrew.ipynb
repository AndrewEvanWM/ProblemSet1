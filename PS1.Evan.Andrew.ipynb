{
 "cells": [
  {
   "cell_type": "code",
   "execution_count": 1,
   "metadata": {
    "collapsed": true
   },
   "outputs": [],
   "source": [
    "#import statements\n",
    "import random\n",
    "import numpy as np\n",
    "import matplotlib.mlab as mlab\n",
    "import matplotlib.pyplot as plt"
   ]
  },
  {
   "cell_type": "code",
   "execution_count": 18,
   "metadata": {},
   "outputs": [
    {
     "name": "stdout",
     "output_type": "stream",
     "text": [
      "v1: 0.4\n",
      "vrand: 0.6\n",
      "vmin: 0.0\n",
      "Mean: 0.3333333333333333\n"
     ]
    },
    {
     "data": {
      "image/png": "[encoded data removed]",
      "text/plain": [
       "<matplotlib.figure.Figure at 0xee8c9b0>"
      ]
     },
     "metadata": {},
     "output_type": "display_data"
    },
    {
     "data": {
      "image/png": "[encoded data removed]",
      "text/plain": [
       "<matplotlib.figure.Figure at 0xf04d400>"
      ]
     },
     "metadata": {},
     "output_type": "display_data"
    },
    {
     "data": {
      "image/png": "[encoded data removed]",
      "text/plain": [
       "<matplotlib.figure.Figure at 0xf051ac8>"
      ]
     },
     "metadata": {},
     "output_type": "display_data"
    }
   ],
   "source": [
    "#Exercise 1.10\n",
    "def exercise10():\n",
    "    oneArray = [None] * 100000\n",
    "    randArray = [None] * 100000\n",
    "    minArray = [None] * 100000\n",
    "    for j in range(0, 100000):\n",
    "        headCountArray = [None] * 1000\n",
    "        #positions of cmin, crand, and c1\n",
    "        cmin = 0\n",
    "        crand = random.randint(0,999)\n",
    "        c1 = 0\n",
    "        #cmax = 0\n",
    "\n",
    "        #1000 trials\n",
    "        for x in range(0,1000):\n",
    "            #ten flips, heads is random = 1, increment count for x\n",
    "            count = 0\n",
    "            for i in range(0,10):\n",
    "                if (random.randint(0,1) == 1):\n",
    "                    count += 1\n",
    "            headCountArray[x] = count\n",
    "\n",
    "            #updates minimum frequency of heads\n",
    "            if (headCountArray[cmin] > headCountArray[x]):\n",
    "                cmin = x\n",
    "\n",
    "        v1 = headCountArray[c1] / 10\n",
    "        vrand = headCountArray[crand] / 10\n",
    "        vmin = headCountArray[cmin] / 10\n",
    "        \n",
    "        oneArray[j] = headCountArray[c1]\n",
    "        randArray[j] = headCountArray[crand]\n",
    "        minArray[j] = headCountArray[cmin]\n",
    "\n",
    "        if (j == 0):\n",
    "            print(\"v1:\", v1)\n",
    "            print(\"vrand:\", vrand)\n",
    "            print(\"vmin:\", vmin)\n",
    "\n",
    "            u = (v1 + vrand + vmin)/3\n",
    "            print(\"Mean:\", u)\n",
    "    \n",
    "    #print(oneArray)\n",
    "    n, bins, patches = plt.hist(oneArray, 10, facecolor='blue', alpha=0.5)\n",
    "    plt.title(\"First Position\")\n",
    "    plt.show()\n",
    "    #print(randArray)\n",
    "    n, bins, patches = plt.hist(randArray, 10, facecolor='blue', alpha=0.5)\n",
    "    plt.title(\"Random Position\")\n",
    "    plt.show()\n",
    "    #print(minArray)\n",
    "    n, bins, patches = plt.hist(minArray, 10, facecolor='blue', alpha=0.5)\n",
    "    plt.title(\"Minimum Head Position\")\n",
    "    plt.show()\n",
    "    \n",
    "    \n",
    "\n",
    "exercise10()"
   ]
  },
  {
   "cell_type": "code",
   "execution_count": null,
   "metadata": {
    "collapsed": true
   },
   "outputs": [],
   "source": []
  }
 ],
 "metadata": {
  "kernelspec": {
   "display_name": "Python 3",
   "language": "python",
   "name": "python3"
  },
  "language_info": {
   "codemirror_mode": {
    "name": "ipython",
    "version": 3
   },
   "file_extension": ".py",
   "mimetype": "text/x-python",
   "name": "python",
   "nbconvert_exporter": "python",
   "pygments_lexer": "ipython3",
   "version": "3.6.3"
  }
 },
 "nbformat": 4,
 "nbformat_minor": 2
}
